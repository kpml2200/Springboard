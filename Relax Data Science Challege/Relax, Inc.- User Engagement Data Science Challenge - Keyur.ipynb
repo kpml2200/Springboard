{
 "cells": [
  {
   "cell_type": "markdown",
   "metadata": {},
   "source": [
    "## Relax, Inc.-  User Engagement Data Science Challenge"
   ]
  },
  {
   "cell_type": "markdown",
   "metadata": {},
   "source": [
    "The data is available as two attached CSV files:\n",
    "\n",
    "- takehome_user_engagement. csv\n",
    "- takehome_users . csv\n",
    "\n",
    "The data has the following two tables:\n",
    "\n",
    "**1. A user table ( \"takehome_users\" ) with data on 12,000 users who signed up for the\n",
    "product in the last two years. This table includes:**\n",
    "\n",
    "- name: the user's name\n",
    "- object_id: the user's id\n",
    "- email: email address\n",
    "- creation_source: how their account was created. This takes on one of 5 values:\n",
    "\n",
    "    - PERSONAL_PROJECTS: invited to join another user'spersonal workspace\n",
    "    - GUEST_INVITE: invited to an organization as a guest(limited permissions)\n",
    "    - ORG_INVITE: invited to an organization (as a full member)\n",
    "    - SIGNUP: signed up via the website\n",
    "    - SIGNUP_GOOGLE_AUTH: signed up using Google Authentication (using a Google email account for their login id)\n",
    "- creation_time: when they created their account\n",
    "- last_session_creation_time: unix timestamp of last login\n",
    "- opted_in_to_mailing_list: whether they have opted into receiving marketing emails\n",
    "- enabled_for_marketing_drip: whether they are on the regular marketing email drip\n",
    "- org_id: the organization (group of users) they belong to\n",
    "- invited_by_user_id: which user invited them to join (if applicable).\n",
    "\n",
    "**2. A usage summary table ( \"takehome_user_engagement\" ) that has a row for each day that a user logged into the product.**\n",
    "\n",
    "\n",
    "**Goal**\n",
    "\n",
    "Defining an \"adopted user\" as a user who has logged into the product on three separate\n",
    "days in at least one sevenday\n",
    "period , identify which factors predict future user\n",
    "adoption .\n",
    "\n",
    "We suggest spending 12 hours on this, but you're welcome to spend more or less.\n",
    "Please send us a brief writeup of your findings (the more concise, the better no\n",
    "more than one page), along with any summary tables, graphs, code, or queries that can help us understand your approach. Please note any factors you considered or investigation you did, even if they did not pan out. Feel free to identify any further research or data you think would be valuable."
   ]
  },
  {
   "cell_type": "code",
   "execution_count": 21,
   "metadata": {
    "collapsed": true
   },
   "outputs": [],
   "source": [
    "# import libraries\n",
    "import matplotlib.pyplot as plt\n",
    "import pandas as pd\n",
    "import seaborn as sns\n",
    "%matplotlib inline"
   ]
  },
  {
   "cell_type": "code",
   "execution_count": 22,
   "metadata": {
    "collapsed": true
   },
   "outputs": [],
   "source": [
    "# Read \" takehome_user_engagment\" file into dataframe \n",
    "eng_df=pd.read_csv('takehome_user_engagement.csv',parse_dates=['time_stamp'],infer_datetime_format=True)"
   ]
  },
  {
   "cell_type": "code",
   "execution_count": 23,
   "metadata": {},
   "outputs": [
    {
     "data": {
      "text/html": [
       "<div>\n",
       "<style scoped>\n",
       "    .dataframe tbody tr th:only-of-type {\n",
       "        vertical-align: middle;\n",
       "    }\n",
       "\n",
       "    .dataframe tbody tr th {\n",
       "        vertical-align: top;\n",
       "    }\n",
       "\n",
       "    .dataframe thead th {\n",
       "        text-align: right;\n",
       "    }\n",
       "</style>\n",
       "<table border=\"1\" class=\"dataframe\">\n",
       "  <thead>\n",
       "    <tr style=\"text-align: right;\">\n",
       "      <th></th>\n",
       "      <th>time_stamp</th>\n",
       "      <th>user_id</th>\n",
       "      <th>visited</th>\n",
       "    </tr>\n",
       "  </thead>\n",
       "  <tbody>\n",
       "    <tr>\n",
       "      <th>0</th>\n",
       "      <td>2014-04-22 03:53:30</td>\n",
       "      <td>1</td>\n",
       "      <td>1</td>\n",
       "    </tr>\n",
       "    <tr>\n",
       "      <th>1</th>\n",
       "      <td>2013-11-15 03:45:04</td>\n",
       "      <td>2</td>\n",
       "      <td>1</td>\n",
       "    </tr>\n",
       "    <tr>\n",
       "      <th>2</th>\n",
       "      <td>2013-11-29 03:45:04</td>\n",
       "      <td>2</td>\n",
       "      <td>1</td>\n",
       "    </tr>\n",
       "    <tr>\n",
       "      <th>3</th>\n",
       "      <td>2013-12-09 03:45:04</td>\n",
       "      <td>2</td>\n",
       "      <td>1</td>\n",
       "    </tr>\n",
       "    <tr>\n",
       "      <th>4</th>\n",
       "      <td>2013-12-25 03:45:04</td>\n",
       "      <td>2</td>\n",
       "      <td>1</td>\n",
       "    </tr>\n",
       "  </tbody>\n",
       "</table>\n",
       "</div>"
      ],
      "text/plain": [
       "           time_stamp  user_id  visited\n",
       "0 2014-04-22 03:53:30        1        1\n",
       "1 2013-11-15 03:45:04        2        1\n",
       "2 2013-11-29 03:45:04        2        1\n",
       "3 2013-12-09 03:45:04        2        1\n",
       "4 2013-12-25 03:45:04        2        1"
      ]
     },
     "execution_count": 23,
     "metadata": {},
     "output_type": "execute_result"
    }
   ],
   "source": [
    "eng_df.head()"
   ]
  },
  {
   "cell_type": "code",
   "execution_count": 24,
   "metadata": {},
   "outputs": [
    {
     "name": "stdout",
     "output_type": "stream",
     "text": [
      "<class 'pandas.core.frame.DataFrame'>\n",
      "RangeIndex: 207917 entries, 0 to 207916\n",
      "Data columns (total 3 columns):\n",
      "time_stamp    207917 non-null datetime64[ns]\n",
      "user_id       207917 non-null int64\n",
      "visited       207917 non-null int64\n",
      "dtypes: datetime64[ns](1), int64(2)\n",
      "memory usage: 4.8 MB\n"
     ]
    }
   ],
   "source": [
    "# check data types of df \n",
    "eng_df.info()"
   ]
  },
  {
   "cell_type": "code",
   "execution_count": 25,
   "metadata": {
    "collapsed": true
   },
   "outputs": [],
   "source": [
    "# adopted users -> user who has logged into the product on three seperate days in at least one seven day period\n",
    "# identify adopted users by weekly activity\n",
    "#create list of adopted users \n",
    "adopted_df=eng_df.copy()\n",
    "adopted_df['time_stamp']=adopted_df['time_stamp'].dt.strftime('%W')\n",
    "wk_ct=adopted_df.groupby(['user_id','time_stamp'])['visited'].sum()\n",
    "adopted_ct=wk_ct[wk_ct >=3]\n",
    "adopted_ct=adopted_ct.unstack().fillna(0).reset_index()\n",
    "adopted_users=adopted_ct['user_id'].tolist()"
   ]
  },
  {
   "cell_type": "code",
   "execution_count": 26,
   "metadata": {},
   "outputs": [
    {
     "name": "stdout",
     "output_type": "stream",
     "text": [
      "1444\n"
     ]
    }
   ],
   "source": [
    "# identified adopted users\n",
    "print(len(adopted_users))"
   ]
  },
  {
   "cell_type": "code",
   "execution_count": 27,
   "metadata": {},
   "outputs": [
    {
     "name": "stdout",
     "output_type": "stream",
     "text": [
      "8823\n"
     ]
    }
   ],
   "source": [
    "users=set(adopted_df['user_id'])\n",
    "print(len(users))"
   ]
  },
  {
   "cell_type": "code",
   "execution_count": 28,
   "metadata": {},
   "outputs": [
    {
     "name": "stdout",
     "output_type": "stream",
     "text": [
      " % of adopted users : 16.37\n"
     ]
    }
   ],
   "source": [
    "# % of adopted users\n",
    "print(f' % of adopted users : {len(adopted_users)/len(users)*100 :.02f}')"
   ]
  },
  {
   "cell_type": "code",
   "execution_count": 29,
   "metadata": {
    "collapsed": true
   },
   "outputs": [],
   "source": [
    "# total visits for each user\n",
    "visited_count=eng_df.groupby('user_id')['visited'].count().to_frame()"
   ]
  },
  {
   "cell_type": "code",
   "execution_count": 30,
   "metadata": {
    "collapsed": true
   },
   "outputs": [],
   "source": [
    "# read takehome_users.csv file into dataframe : users_df\n",
    "users_df=pd.read_csv('takehome_users.csv',encoding='latin-1',index_col='object_id',parse_dates=['creation_time','last_session_creation_time'])"
   ]
  },
  {
   "cell_type": "code",
   "execution_count": 31,
   "metadata": {
    "collapsed": true
   },
   "outputs": [],
   "source": [
    "# Merge two data frames \n",
    "users_df=users_df.merge(visited_count,left_index=True,right_index=True)"
   ]
  },
  {
   "cell_type": "code",
   "execution_count": 32,
   "metadata": {
    "collapsed": true
   },
   "outputs": [],
   "source": [
    "# add adopted users to the dataframe\n",
    "users_df['adopted']=users_df.index.isin(adopted_users).astype(int)"
   ]
  },
  {
   "cell_type": "code",
   "execution_count": 33,
   "metadata": {},
   "outputs": [
    {
     "data": {
      "text/html": [
       "<div>\n",
       "<style scoped>\n",
       "    .dataframe tbody tr th:only-of-type {\n",
       "        vertical-align: middle;\n",
       "    }\n",
       "\n",
       "    .dataframe tbody tr th {\n",
       "        vertical-align: top;\n",
       "    }\n",
       "\n",
       "    .dataframe thead th {\n",
       "        text-align: right;\n",
       "    }\n",
       "</style>\n",
       "<table border=\"1\" class=\"dataframe\">\n",
       "  <thead>\n",
       "    <tr style=\"text-align: right;\">\n",
       "      <th></th>\n",
       "      <th>creation_time</th>\n",
       "      <th>name</th>\n",
       "      <th>email</th>\n",
       "      <th>creation_source</th>\n",
       "      <th>last_session_creation_time</th>\n",
       "      <th>opted_in_to_mailing_list</th>\n",
       "      <th>enabled_for_marketing_drip</th>\n",
       "      <th>org_id</th>\n",
       "      <th>invited_by_user_id</th>\n",
       "      <th>visited</th>\n",
       "      <th>adopted</th>\n",
       "    </tr>\n",
       "  </thead>\n",
       "  <tbody>\n",
       "    <tr>\n",
       "      <th>1</th>\n",
       "      <td>2014-04-22 03:53:30</td>\n",
       "      <td>Clausen August</td>\n",
       "      <td>AugustCClausen@yahoo.com</td>\n",
       "      <td>GUEST_INVITE</td>\n",
       "      <td>1398138810</td>\n",
       "      <td>1</td>\n",
       "      <td>0</td>\n",
       "      <td>11</td>\n",
       "      <td>10803.0</td>\n",
       "      <td>1</td>\n",
       "      <td>0</td>\n",
       "    </tr>\n",
       "    <tr>\n",
       "      <th>2</th>\n",
       "      <td>2013-11-15 03:45:04</td>\n",
       "      <td>Poole Matthew</td>\n",
       "      <td>MatthewPoole@gustr.com</td>\n",
       "      <td>ORG_INVITE</td>\n",
       "      <td>1396237504</td>\n",
       "      <td>0</td>\n",
       "      <td>0</td>\n",
       "      <td>1</td>\n",
       "      <td>316.0</td>\n",
       "      <td>14</td>\n",
       "      <td>1</td>\n",
       "    </tr>\n",
       "    <tr>\n",
       "      <th>3</th>\n",
       "      <td>2013-03-19 23:14:52</td>\n",
       "      <td>Bottrill Mitchell</td>\n",
       "      <td>MitchellBottrill@gustr.com</td>\n",
       "      <td>ORG_INVITE</td>\n",
       "      <td>1363734892</td>\n",
       "      <td>0</td>\n",
       "      <td>0</td>\n",
       "      <td>94</td>\n",
       "      <td>1525.0</td>\n",
       "      <td>1</td>\n",
       "      <td>0</td>\n",
       "    </tr>\n",
       "    <tr>\n",
       "      <th>4</th>\n",
       "      <td>2013-05-21 08:09:28</td>\n",
       "      <td>Clausen Nicklas</td>\n",
       "      <td>NicklasSClausen@yahoo.com</td>\n",
       "      <td>GUEST_INVITE</td>\n",
       "      <td>1369210168</td>\n",
       "      <td>0</td>\n",
       "      <td>0</td>\n",
       "      <td>1</td>\n",
       "      <td>5151.0</td>\n",
       "      <td>1</td>\n",
       "      <td>0</td>\n",
       "    </tr>\n",
       "    <tr>\n",
       "      <th>5</th>\n",
       "      <td>2013-01-17 10:14:20</td>\n",
       "      <td>Raw Grace</td>\n",
       "      <td>GraceRaw@yahoo.com</td>\n",
       "      <td>GUEST_INVITE</td>\n",
       "      <td>1358849660</td>\n",
       "      <td>0</td>\n",
       "      <td>0</td>\n",
       "      <td>193</td>\n",
       "      <td>5240.0</td>\n",
       "      <td>1</td>\n",
       "      <td>0</td>\n",
       "    </tr>\n",
       "  </tbody>\n",
       "</table>\n",
       "</div>"
      ],
      "text/plain": [
       "        creation_time               name                       email  \\\n",
       "1 2014-04-22 03:53:30     Clausen August    AugustCClausen@yahoo.com   \n",
       "2 2013-11-15 03:45:04      Poole Matthew      MatthewPoole@gustr.com   \n",
       "3 2013-03-19 23:14:52  Bottrill Mitchell  MitchellBottrill@gustr.com   \n",
       "4 2013-05-21 08:09:28    Clausen Nicklas   NicklasSClausen@yahoo.com   \n",
       "5 2013-01-17 10:14:20          Raw Grace          GraceRaw@yahoo.com   \n",
       "\n",
       "  creation_source last_session_creation_time  opted_in_to_mailing_list  \\\n",
       "1    GUEST_INVITE                 1398138810                         1   \n",
       "2      ORG_INVITE                 1396237504                         0   \n",
       "3      ORG_INVITE                 1363734892                         0   \n",
       "4    GUEST_INVITE                 1369210168                         0   \n",
       "5    GUEST_INVITE                 1358849660                         0   \n",
       "\n",
       "   enabled_for_marketing_drip  org_id  invited_by_user_id  visited  adopted  \n",
       "1                           0      11             10803.0        1        0  \n",
       "2                           0       1               316.0       14        1  \n",
       "3                           0      94              1525.0        1        0  \n",
       "4                           0       1              5151.0        1        0  \n",
       "5                           0     193              5240.0        1        0  "
      ]
     },
     "execution_count": 33,
     "metadata": {},
     "output_type": "execute_result"
    }
   ],
   "source": [
    "users_df.head()"
   ]
  },
  {
   "cell_type": "code",
   "execution_count": 34,
   "metadata": {},
   "outputs": [
    {
     "name": "stdout",
     "output_type": "stream",
     "text": [
      "<class 'pandas.core.frame.DataFrame'>\n",
      "Int64Index: 8823 entries, 1 to 12000\n",
      "Data columns (total 11 columns):\n",
      "creation_time                 8823 non-null datetime64[ns]\n",
      "name                          8823 non-null object\n",
      "email                         8823 non-null object\n",
      "creation_source               8823 non-null object\n",
      "last_session_creation_time    8823 non-null object\n",
      "opted_in_to_mailing_list      8823 non-null int64\n",
      "enabled_for_marketing_drip    8823 non-null int64\n",
      "org_id                        8823 non-null int64\n",
      "invited_by_user_id            4776 non-null float64\n",
      "visited                       8823 non-null int64\n",
      "adopted                       8823 non-null int32\n",
      "dtypes: datetime64[ns](1), float64(1), int32(1), int64(4), object(4)\n",
      "memory usage: 792.7+ KB\n"
     ]
    }
   ],
   "source": [
    "# check data types on users_df \n",
    "users_df.info()"
   ]
  },
  {
   "cell_type": "code",
   "execution_count": 35,
   "metadata": {
    "collapsed": true
   },
   "outputs": [],
   "source": [
    "# change last_session to datetime\n",
    "users_df['last_session_creation_time']=pd.to_datetime(users_df['last_session_creation_time'].astype(int),unit='s')"
   ]
  },
  {
   "cell_type": "code",
   "execution_count": 36,
   "metadata": {
    "collapsed": true
   },
   "outputs": [],
   "source": [
    "# Change creation source to categorical\n",
    "users_df.creation_source = users_df.creation_source.astype('category')"
   ]
  },
  {
   "cell_type": "code",
   "execution_count": 37,
   "metadata": {},
   "outputs": [
    {
     "data": {
      "text/plain": [
       "1"
      ]
     },
     "execution_count": 37,
     "metadata": {},
     "output_type": "execute_result"
    }
   ],
   "source": [
    "# compute login stats for each unadopted users\n",
    "users_df[users_df.adopted == False]['visited'].min()"
   ]
  },
  {
   "cell_type": "code",
   "execution_count": 38,
   "metadata": {},
   "outputs": [
    {
     "name": "stdout",
     "output_type": "stream",
     "text": [
      "Unadopted User Statistics\n",
      "Min Logins: 1\n",
      "Max Logins: 34\n",
      "Mean Logins: 2\n",
      "Median Logins: 1\n"
     ]
    }
   ],
   "source": [
    "#  login statistics for each unadopted users\n",
    "unadopted_min = users_df[users_df.adopted == False]['visited'].min()\n",
    "unadopted_max = users_df[users_df.adopted == False]['visited'].max()\n",
    "unadopted_mean = users_df[users_df.adopted == False]['visited'].mean()\n",
    "unadopted_median = users_df[users_df.adopted == False]['visited'].median()\n",
    "\n",
    "print('Unadopted User Statistics')\n",
    "print('Min Logins: {0}\\nMax Logins: {1}\\nMean Logins: {2:.0f}\\nMedian Logins: {3:.0f}'.format(unadopted_min, \n",
    "                                                                    unadopted_max,\n",
    "                                                                    unadopted_mean,\n",
    "                                                                    unadopted_median))"
   ]
  },
  {
   "cell_type": "code",
   "execution_count": 39,
   "metadata": {},
   "outputs": [
    {
     "name": "stdout",
     "output_type": "stream",
     "text": [
      "Adopted User Statistics\n",
      "Min Logins: 3\n",
      "Max Logins: 606\n",
      "Mean Logins:  136\n",
      "Median Logins: 83\n"
     ]
    }
   ],
   "source": [
    "# login statistics for each adopted users\n",
    "adopted_min = users_df[users_df.adopted == True]['visited'].min()\n",
    "adopted_max = users_df[users_df.adopted == True]['visited'].max()\n",
    "adopted_mean = users_df[users_df.adopted == True]['visited'].mean()\n",
    "adopted_median = users_df[users_df.adopted == True]['visited'].median()\n",
    "\n",
    "print('Adopted User Statistics')\n",
    "print('Min Logins: {0}\\nMax Logins: {1}\\nMean Logins: {2: .0f}\\nMedian Logins: {3:.0f}'.format(adopted_min, \n",
    "                                                                                     adopted_max, \n",
    "                                                                                     adopted_mean,\n",
    "                                                                                     adopted_median))"
   ]
  },
  {
   "cell_type": "code",
   "execution_count": 46,
   "metadata": {},
   "outputs": [
    {
     "name": "stdout",
     "output_type": "stream",
     "text": [
      "creation_source\n",
      "GUEST_INVITE          0.205290\n",
      "ORG_INVITE            0.154015\n",
      "PERSONAL_PROJECTS     0.191099\n",
      "SIGNUP                0.144889\n",
      "SIGNUP_GOOGLE_AUTH    0.148736\n",
      "Name: adopted, dtype: float64\n"
     ]
    },
    {
     "data": {
      "image/png": "[encoded data removed]",
      "text/plain": [
       "<Figure size 432x288 with 1 Axes>"
      ]
     },
     "metadata": {},
     "output_type": "display_data"
    }
   ],
   "source": [
    "#plt.plot(users_df['visited'],users_df['adopted'])\n",
    "print(users_df.groupby('creation_source')['adopted'].sum() / users_df.groupby('creation_source')['adopted'].count())\n",
    "\n",
    "(users_df.groupby('creation_source')['adopted'].sum() / users_df.groupby('creation_source')['adopted'].count()).plot(kind='bar', \n",
    "                                                               title='No. of Adopted Users by Creation Source');"
   ]
  },
  {
   "cell_type": "markdown",
   "metadata": {},
   "source": [
    "we can see invited as guests of organization and invited to join another member's personal project appear in high percentage  which indicate users are more likely to visit the platform if their is a social connection. The bar chart shows adoption rate for all users is less than 21%.\n"
   ]
  },
  {
   "cell_type": "code",
   "execution_count": 63,
   "metadata": {},
   "outputs": [
    {
     "name": "stdout",
     "output_type": "stream",
     "text": [
      "opted_in_to_mailing_list  adopted\n",
      "0                         0          5531\n",
      "                          1          1066\n",
      "1                         0          1848\n",
      "                          1           378\n",
      "Name: adopted, dtype: int64\n"
     ]
    },
    {
     "data": {
      "image/png": "[encoded data removed]",
      "text/plain": [
       "<Figure size 432x288 with 1 Axes>"
      ]
     },
     "metadata": {},
     "output_type": "display_data"
    }
   ],
   "source": [
    "m_list = users_df.groupby(['opted_in_to_mailing_list','adopted'])['adopted'].count()\n",
    "print(m_list)\n",
    "m_list.unstack().plot(kind='bar');"
   ]
  },
  {
   "cell_type": "code",
   "execution_count": 64,
   "metadata": {},
   "outputs": [
    {
     "data": {
      "text/html": [
       "<div>\n",
       "<style scoped>\n",
       "    .dataframe tbody tr th:only-of-type {\n",
       "        vertical-align: middle;\n",
       "    }\n",
       "\n",
       "    .dataframe tbody tr th {\n",
       "        vertical-align: top;\n",
       "    }\n",
       "\n",
       "    .dataframe thead th {\n",
       "        text-align: right;\n",
       "    }\n",
       "</style>\n",
       "<table border=\"1\" class=\"dataframe\">\n",
       "  <thead>\n",
       "    <tr style=\"text-align: right;\">\n",
       "      <th>adopted</th>\n",
       "      <th>0</th>\n",
       "      <th>1</th>\n",
       "      <th>pct</th>\n",
       "    </tr>\n",
       "    <tr>\n",
       "      <th>opted_in_to_mailing_list</th>\n",
       "      <th></th>\n",
       "      <th></th>\n",
       "      <th></th>\n",
       "    </tr>\n",
       "  </thead>\n",
       "  <tbody>\n",
       "    <tr>\n",
       "      <th>0</th>\n",
       "      <td>5531</td>\n",
       "      <td>1066</td>\n",
       "      <td>0.280127</td>\n",
       "    </tr>\n",
       "    <tr>\n",
       "      <th>1</th>\n",
       "      <td>1848</td>\n",
       "      <td>378</td>\n",
       "      <td>0.169811</td>\n",
       "    </tr>\n",
       "  </tbody>\n",
       "</table>\n",
       "</div>"
      ],
      "text/plain": [
       "adopted                      0     1       pct\n",
       "opted_in_to_mailing_list                      \n",
       "0                         5531  1066  0.280127\n",
       "1                         1848   378  0.169811"
      ]
     },
     "execution_count": 64,
     "metadata": {},
     "output_type": "execute_result"
    }
   ],
   "source": [
    "m_list_unstack = m_list.unstack()\n",
    "\n",
    "# Percent of adopted users based on mailing list status\n",
    "m_list_unstack['pct'] = m_list_unstack.iloc[1] / m_list_unstack.sum(axis=1)\n",
    "m_list_unstack"
   ]
  },
  {
   "cell_type": "markdown",
   "metadata": {},
   "source": [
    "The Users who did not opt in the mailing list appear more likely to adopt to the platform\n"
   ]
  },
  {
   "cell_type": "code",
   "execution_count": 65,
   "metadata": {},
   "outputs": [
    {
     "data": {
      "text/plain": [
       "417"
      ]
     },
     "execution_count": 65,
     "metadata": {},
     "output_type": "execute_result"
    }
   ],
   "source": [
    "#  number of unique organizations\n",
    "len(users_df.org_id.unique())"
   ]
  },
  {
   "cell_type": "code",
   "execution_count": 83,
   "metadata": {},
   "outputs": [
    {
     "data": {
      "image/png": "[encoded data removed]",
      "text/plain": [
       "<Figure size 1152x432 with 1 Axes>"
      ]
     },
     "metadata": {},
     "output_type": "display_data"
    }
   ],
   "source": [
    "# Percent of adopted users by organization\n",
    "org_adoption_percent = (users_df.groupby('org_id')['adopted'].sum() / users_df.groupby('org_id')['adopted'].count()).sort_values(ascending=False)\n",
    "\n",
    "# the the 100 orgs with the highest adoption rate\n",
    "org_adoption_percent[:100].plot(kind='bar',color='darkslategray', title='% of Adoption by Organization',figsize=(16,6));"
   ]
  },
  {
   "cell_type": "markdown",
   "metadata": {},
   "source": [
    "We can see about 50 organizations with adoption rate over 33% and just 3 organizations with an adoption rate above 50%. Out of 417 organizations, this leaves a small percentage of organizations that are converting users to adoption.\n",
    "\n",
    "We can see that there are only 3 organizations with an adoption rate above 50% and about 50 organizations with adoption above 33%. Out of 417 organizations, this leaves a small percentage of organizations that are converting users to adoption.\n",
    "\n"
   ]
  },
  {
   "cell_type": "markdown",
   "metadata": {},
   "source": [
    "### Preprocessing steps for finding features that play important role in predicting adoption"
   ]
  },
  {
   "cell_type": "code",
   "execution_count": 84,
   "metadata": {
    "collapsed": true
   },
   "outputs": [],
   "source": [
    "# convert creation source categories to numerical codes\n",
    "users_df['creation_source'] = pd.Categorical(users_df.creation_source).codes"
   ]
  },
  {
   "cell_type": "code",
   "execution_count": 85,
   "metadata": {
    "collapsed": true
   },
   "outputs": [],
   "source": [
    "# define features for gradient boosting model\n",
    "features = users_df[['creation_source','opted_in_to_mailing_list','enabled_for_marketing_drip','org_id','invited_by_user_id','visited']].copy()"
   ]
  },
  {
   "cell_type": "code",
   "execution_count": 86,
   "metadata": {},
   "outputs": [
    {
     "name": "stdout",
     "output_type": "stream",
     "text": [
      "<class 'pandas.core.frame.DataFrame'>\n",
      "Int64Index: 8823 entries, 1 to 12000\n",
      "Data columns (total 6 columns):\n",
      "creation_source               8823 non-null int8\n",
      "opted_in_to_mailing_list      8823 non-null int64\n",
      "enabled_for_marketing_drip    8823 non-null int64\n",
      "org_id                        8823 non-null int64\n",
      "invited_by_user_id            4776 non-null float64\n",
      "visited                       8823 non-null int64\n",
      "dtypes: float64(1), int64(4), int8(1)\n",
      "memory usage: 422.2 KB\n"
     ]
    }
   ],
   "source": [
    "features.info()"
   ]
  },
  {
   "cell_type": "markdown",
   "metadata": {},
   "source": [
    "Invited by user_id has missing values "
   ]
  },
  {
   "cell_type": "code",
   "execution_count": 87,
   "metadata": {
    "collapsed": true
   },
   "outputs": [],
   "source": [
    "# convert missing data\n",
    "features.invited_by_user_id.fillna(-1, inplace=True)"
   ]
  },
  {
   "cell_type": "code",
   "execution_count": 90,
   "metadata": {},
   "outputs": [
    {
     "data": {
      "image/png": "[encoded data removed]",
      "text/plain": [
       "<Figure size 576x432 with 1 Axes>"
      ]
     },
     "metadata": {},
     "output_type": "display_data"
    }
   ],
   "source": [
    "# plot feature importances using gradient boosting model\n",
    "from sklearn.ensemble import GradientBoostingClassifier\n",
    "from yellowbrick.features.importances import FeatureImportances\n",
    "\n",
    "X = features\n",
    "y = users_df.adopted\n",
    "\n",
    "# Create a new matplotlib figure\n",
    "fig = plt.figure(figsize=(8,6))\n",
    "ax = fig.add_subplot()\n",
    "\n",
    "feature_imp = FeatureImportances(GradientBoostingClassifier(random_state=42), ax=ax)\n",
    "feature_imp.fit(X, y)\n",
    "feature_imp.poof()"
   ]
  },
  {
   "cell_type": "code",
   "execution_count": 91,
   "metadata": {},
   "outputs": [
    {
     "data": {
      "text/plain": [
       "0.978021978021978"
      ]
     },
     "execution_count": 91,
     "metadata": {},
     "output_type": "execute_result"
    }
   ],
   "source": [
    "# see how well the baseline GB model performs\n",
    "from sklearn.model_selection import train_test_split\n",
    "X_train, X_test, y_train, y_test = train_test_split(X, y, test_size=0.33, random_state=42)\n",
    "\n",
    "clf = GradientBoostingClassifier(random_state=42).fit(X_train, y_train)\n",
    "clf.score(X_test, y_test)"
   ]
  },
  {
   "cell_type": "markdown",
   "metadata": {},
   "source": [
    "**Inference:**\n",
    "\n",
    "-\t16.33% of users are adopted users\n",
    "-\tWe can see invited as guests of organization and invited to join another member's personal project appear in high percentage which indicate users are more likely to visit the platform if there is a social connection. It is suggested to shed light on social connection and see what the users and organizations who are inviting adopted users are doing differently. \n",
    "-\t\n",
    "-\tThe bar plot above shows that only 3 organizations have more than 50% of their users convert to adoption (and only about 50 of the 417 organizations convert more than 33%). It might be worth examining the difference between organizations that convert users to adopted versus those that don't.\n",
    "-\t\n",
    "-\tThe Users who did not opt in the mailing list appear more likely to adopt to the platform\n",
    "-\tthe most important factor in predicting whether a user will adopt the platform is the number of visits followed by org_id.\n",
    "-\tThe mean number of logins for an unadopted user is 2 (with a max of 34) and the mean for an adopted user is 136 (with a max of 606). With gradient boosting algorithm we were able to create a model with accuracy of 97.8%\n"
   ]
  }
 ],
 "metadata": {
  "kernelspec": {
   "display_name": "Python 3",
   "language": "python",
   "name": "python3"
  },
  "language_info": {
   "codemirror_mode": {
    "name": "ipython",
    "version": 3
   },
   "file_extension": ".py",
   "mimetype": "text/x-python",
   "name": "python",
   "nbconvert_exporter": "python",
   "pygments_lexer": "ipython3",
   "version": "3.6.8"
  }
 },
 "nbformat": 4,
 "nbformat_minor": 2
}
